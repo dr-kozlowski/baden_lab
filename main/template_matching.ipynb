{
 "cells": [
  {
   "cell_type": "markdown",
   "metadata": {},
   "source": [
    "# **imports**"
   ]
  },
  {
   "cell_type": "code",
   "execution_count": 6,
   "metadata": {},
   "outputs": [],
   "source": [
    "%load_ext autoreload\n",
    "%autoreload 2"
   ]
  },
  {
   "cell_type": "code",
   "execution_count": 77,
   "metadata": {},
   "outputs": [],
   "source": [
    "from tqdm import tqdm\n",
    "import numpy as np\n",
    "import matplotlib.pyplot as plt\n",
    "import scipy.signal as sig\n",
    "import pandas as pd\n",
    "import scipy.optimize as optimize\n"
   ]
  },
  {
   "cell_type": "code",
   "execution_count": 51,
   "metadata": {},
   "outputs": [],
   "source": [
    "import os\n",
    "import sys\n",
    "sys.path.append(\"../\")\n",
    "\n",
    "from modules.utils import load_json, get_pooled_IPL_positions, get_template, get_interpolated_templates, get_downsampled_data\n",
    "from modules.preprocessing import pool_avg_traces, get_baseline_subtracted_traces\n",
    "from modules.masking import get_masked_traces\n",
    "from modules.model import get_cone_tunings"
   ]
  },
  {
   "cell_type": "code",
   "execution_count": 3,
   "metadata": {},
   "outputs": [],
   "source": [
    "plt.rcParams[\"figure.autolayout\"] = True"
   ]
  },
  {
   "cell_type": "markdown",
   "metadata": {},
   "source": [
    "# **load data**"
   ]
  },
  {
   "cell_type": "code",
   "execution_count": 40,
   "metadata": {},
   "outputs": [],
   "source": [
    "qc = 0.35 # quality criterion to evaluate traces\n",
    "std_qc = 1\n",
    "nLEDs = 6 # number of LEDs used in a given experiment\n",
    "fpath_expinfo = r'../experiment_info/zf_leds_for_analysis.json'\n",
    "led_nms = load_json(fpath_expinfo)"
   ]
  },
  {
   "cell_type": "code",
   "execution_count": 18,
   "metadata": {},
   "outputs": [
    {
     "name": "stderr",
     "output_type": "stream",
     "text": [
      "14it [00:09,  1.41it/s]\n"
     ]
    },
    {
     "name": "stdout",
     "output_type": "stream",
     "text": [
      "final shape of pooled traces: 1917 rois | 18000  time points\n"
     ]
    },
    {
     "name": "stderr",
     "output_type": "stream",
     "text": [
      "15it [00:09,  1.58it/s]\n"
     ]
    },
    {
     "name": "stdout",
     "output_type": "stream",
     "text": [
      "final shape of pooled traces: 2238 rois | 18000  time points\n"
     ]
    },
    {
     "name": "stderr",
     "output_type": "stream",
     "text": [
      "8it [00:04,  1.84it/s]\n"
     ]
    },
    {
     "name": "stdout",
     "output_type": "stream",
     "text": [
      "final shape of pooled traces: 1039 rois | 18000  time points\n"
     ]
    },
    {
     "name": "stderr",
     "output_type": "stream",
     "text": [
      "9it [00:04,  1.95it/s]\n"
     ]
    },
    {
     "name": "stdout",
     "output_type": "stream",
     "text": [
      "final shape of pooled traces: 1045 rois | 18000  time points\n"
     ]
    },
    {
     "name": "stderr",
     "output_type": "stream",
     "text": [
      "14it [00:09,  1.46it/s]"
     ]
    },
    {
     "name": "stdout",
     "output_type": "stream",
     "text": [
      "final shape of pooled traces: 2058 rois | 18000  time points\n"
     ]
    },
    {
     "name": "stderr",
     "output_type": "stream",
     "text": [
      "\n"
     ]
    }
   ],
   "source": [
    "# get average traces\n",
    "fpath_control = r\"D:\\Project_with_Chiara\\analysis_clean\\data\\control\"\n",
    "fpath_red = r\"D:\\Project_with_Chiara\\analysis_clean\\data\\red\"\n",
    "fpath_green = r\"D:\\Project_with_Chiara\\analysis_clean\\data\\green\"\n",
    "fpath_blue = r\"D:\\Project_with_Chiara\\analysis_clean\\data\\blue\"\n",
    "fpath_uv = r\"D:\\Project_with_Chiara\\analysis_clean\\data\\uv\"\n",
    "\n",
    "\n",
    "pooled_traces_control, pooled_triggerstamps_control, pooled_ticks_control, pooled_baselines_control, pooled_quality_criterion_control = pool_avg_traces(fpath_control, fpath_expinfo, nLEDs)\n",
    "pooled_traces_bs_control = get_baseline_subtracted_traces(pooled_traces_control, pooled_baselines_control, snippets=False)\n",
    "\n",
    "pooled_traces_red, pooled_triggerstamps_red, pooled_ticks_red, pooled_baselines_red, pooled_quality_criterion_red = pool_avg_traces(fpath_red, fpath_expinfo, nLEDs)\n",
    "pooled_traces_bs_red = get_baseline_subtracted_traces(pooled_traces_red, pooled_baselines_red, snippets=False)\n",
    "\n",
    "pooled_traces_green, pooled_triggerstamps_green, pooled_ticks_green, pooled_baselines_green, pooled_quality_criterion_green = pool_avg_traces(fpath_green, fpath_expinfo, nLEDs)\n",
    "pooled_traces_bs_green = get_baseline_subtracted_traces(pooled_traces_green, pooled_baselines_green, snippets=False)\n",
    "\n",
    "pooled_traces_blue, pooled_triggerstamps_blue, pooled_ticks_blue, pooled_baselines_blue, pooled_quality_criterion_blue = pool_avg_traces(fpath_blue, fpath_expinfo, nLEDs)\n",
    "pooled_traces_bs_blue = get_baseline_subtracted_traces(pooled_traces_blue, pooled_baselines_blue, snippets=False)\n",
    "\n",
    "pooled_traces_uv, pooled_triggerstamps_uv, pooled_ticks_uv, pooled_baselines_uv, pooled_quality_criterion_uv = pool_avg_traces(fpath_uv, fpath_expinfo, nLEDs)\n",
    "pooled_traces_bs_uv = get_baseline_subtracted_traces(pooled_traces_uv, pooled_baselines_uv, snippets=False)"
   ]
  },
  {
   "cell_type": "code",
   "execution_count": 17,
   "metadata": {},
   "outputs": [
    {
     "data": {
      "application/vnd.jupyter.widget-view+json": {
       "model_id": "9ca72776cf8c473a90a766250c6571e4",
       "version_major": 2,
       "version_minor": 0
      },
      "text/plain": [
       "0it [00:00, ?it/s]"
      ]
     },
     "metadata": {},
     "output_type": "display_data"
    },
    {
     "name": "stdout",
     "output_type": "stream",
     "text": [
      "final shape of pooled IPL positions: 1917 rois\n"
     ]
    },
    {
     "data": {
      "application/vnd.jupyter.widget-view+json": {
       "model_id": "63dc889067644137b366e35bd54719b2",
       "version_major": 2,
       "version_minor": 0
      },
      "text/plain": [
       "0it [00:00, ?it/s]"
      ]
     },
     "metadata": {},
     "output_type": "display_data"
    },
    {
     "name": "stdout",
     "output_type": "stream",
     "text": [
      "final shape of pooled IPL positions: 2058 rois\n"
     ]
    },
    {
     "data": {
      "application/vnd.jupyter.widget-view+json": {
       "model_id": "59ab1d8ecf174e87bd1517f30bdd1c69",
       "version_major": 2,
       "version_minor": 0
      },
      "text/plain": [
       "0it [00:00, ?it/s]"
      ]
     },
     "metadata": {},
     "output_type": "display_data"
    },
    {
     "name": "stdout",
     "output_type": "stream",
     "text": [
      "final shape of pooled IPL positions: 1039 rois\n"
     ]
    },
    {
     "data": {
      "application/vnd.jupyter.widget-view+json": {
       "model_id": "aeb2ccc1066c4b73893ab5ca64e29bf3",
       "version_major": 2,
       "version_minor": 0
      },
      "text/plain": [
       "0it [00:00, ?it/s]"
      ]
     },
     "metadata": {},
     "output_type": "display_data"
    },
    {
     "name": "stdout",
     "output_type": "stream",
     "text": [
      "final shape of pooled IPL positions: 2238 rois\n"
     ]
    },
    {
     "data": {
      "application/vnd.jupyter.widget-view+json": {
       "model_id": "f4cb7c21e1ed4ec3a2a27fc53445eff7",
       "version_major": 2,
       "version_minor": 0
      },
      "text/plain": [
       "0it [00:00, ?it/s]"
      ]
     },
     "metadata": {},
     "output_type": "display_data"
    },
    {
     "name": "stdout",
     "output_type": "stream",
     "text": [
      "final shape of pooled IPL positions: 1045 rois\n"
     ]
    }
   ],
   "source": [
    "# get the IPL positions and the regions of the rois\n",
    "pooled_IPLs_control, pooled_regions_control = get_pooled_IPL_positions(fpath_control)\n",
    "pooled_IPLs_uv, pooled_regions_uv = get_pooled_IPL_positions(fpath_uv)\n",
    "pooled_IPLs_green, pooled_regions_green = get_pooled_IPL_positions(fpath_green)\n",
    "pooled_IPLs_red, pooled_regions_red = get_pooled_IPL_positions(fpath_red)\n",
    "pooled_IPLs_blue, pooled_regions_blue = get_pooled_IPL_positions(fpath_blue)"
   ]
  },
  {
   "cell_type": "markdown",
   "metadata": {},
   "source": [
    "# **template matching**"
   ]
  },
  {
   "cell_type": "markdown",
   "metadata": {},
   "source": [
    "## **get templates**"
   ]
  },
  {
   "cell_type": "code",
   "execution_count": 35,
   "metadata": {},
   "outputs": [],
   "source": [
    "# get the template\n",
    "ticks_per_template = 200\n",
    "path_to_template = r\"..\\experiment_info\\model\\fitting_templates.mat\"\n",
    "templates = get_template(path_to_template, temp_type='3s')\n",
    "templates = get_interpolated_templates(templates, num_of_ds_ticks=ticks_per_template)"
   ]
  },
  {
   "cell_type": "code",
   "execution_count": 36,
   "metadata": {},
   "outputs": [
    {
     "data": {
      "image/png": "[encoded data removed]",
      "text/plain": [
       "<Figure size 800x400 with 1 Axes>"
      ]
     },
     "metadata": {},
     "output_type": "display_data"
    }
   ],
   "source": [
    "fig, ax = plt.subplots(1, 1, figsize=(8, 4))\n",
    "temp_labels = [r'$L_{tr}$', r'$L_{sus}$', r'$D_{tr}$', r'$D_{sus}$']\n",
    "fig.suptitle('Temporal components', fontsize=20, fontweight='bold')\n",
    "expand_templates = np.zeros((nLEDs*templates.shape[0], templates.shape[1]))\n",
    "for i in range(nLEDs):\n",
    "    expand_templates[i*templates.shape[0]:(i+1)*templates.shape[0]] = templates\n",
    "    \n",
    "    \n",
    "for i in range(templates.shape[1]):\n",
    "    ax.plot(expand_templates[:, i] + i*1.1, 'k', lw=2)\n",
    "# ax.vlines(100, -0.1, 4.1, ls='--', lw = 2, color='k')\n",
    "for i in range(nLEDs):\n",
    "    ax.axvspan(ticks_per_template*i+ticks_per_template/2, ticks_per_template*i+ticks_per_template, 0, 4.1, facecolor='gray', alpha=0.5)\n",
    "    ax.hlines(i*1.1, 0, templates.shape[0], 'k', '--')\n",
    "\n",
    "ax.yaxis.set_ticks([i*1.1+0.5 for i in range(templates.shape[1])], temp_labels, fontsize=14)\n",
    "ax.set_ylim(-0.1, 4.4)\n",
    "plt.tight_layout()"
   ]
  },
  {
   "cell_type": "markdown",
   "metadata": {},
   "source": [
    "## **downsample traces**"
   ]
  },
  {
   "cell_type": "code",
   "execution_count": 38,
   "metadata": {},
   "outputs": [],
   "source": [
    "# downsample data\n",
    "ticks_to_interpolate = ticks_per_template * nLEDs\n",
    "traces_ds_control = get_downsampled_data(pooled_traces_bs_control, ticks_to_interpolate)\n",
    "traces_ds_uv = get_downsampled_data(pooled_traces_bs_uv, ticks_to_interpolate)\n",
    "traces_ds_green = get_downsampled_data(pooled_traces_bs_green, ticks_to_interpolate)\n",
    "traces_ds_red = get_downsampled_data(pooled_traces_bs_red, ticks_to_interpolate)\n",
    "traces_ds_blue = get_downsampled_data(pooled_traces_bs_blue, ticks_to_interpolate)"
   ]
  },
  {
   "cell_type": "code",
   "execution_count": 42,
   "metadata": {},
   "outputs": [],
   "source": [
    "# mask data\n",
    "traces_ds_control = get_masked_traces(traces_ds_control, pooled_quality_criterion_control, qc=qc, IPL_positions=pooled_IPLs_control, std_qc=std_qc)\n",
    "traces_ds_uv = get_masked_traces(traces_ds_uv, pooled_quality_criterion_uv, qc=qc, IPL_positions=pooled_IPLs_uv, std_qc=std_qc)\n",
    "traces_ds_green = get_masked_traces(traces_ds_green, pooled_quality_criterion_green, qc=qc, IPL_positions=pooled_IPLs_green, std_qc=std_qc)\n",
    "traces_ds_red = get_masked_traces(traces_ds_red, pooled_quality_criterion_red, qc=qc, IPL_positions=pooled_IPLs_red, std_qc=std_qc)\n",
    "traces_ds_blue = get_masked_traces(traces_ds_blue, pooled_quality_criterion_blue, qc=qc, IPL_positions=pooled_IPLs_blue, std_qc=std_qc)"
   ]
  },
  {
   "cell_type": "markdown",
   "metadata": {},
   "source": [
    "## **get cone tuning curves**"
   ]
  },
  {
   "cell_type": "code",
   "execution_count": 56,
   "metadata": {},
   "outputs": [],
   "source": [
    "path_to_cone_data = r\"..\\experiment_info\\model\\cone_data.csv\"\n",
    "cone_tunings = get_cone_tunings(path_to_cone_data, N_ticks_extra=templates.shape[0])"
   ]
  },
  {
   "cell_type": "markdown",
   "metadata": {},
   "source": [
    "## **get log opsin tuning curves**"
   ]
  },
  {
   "cell_type": "code",
   "execution_count": 65,
   "metadata": {},
   "outputs": [],
   "source": [
    "def optimizing_fun(params, x, data, return_fit=False):\n",
    "    \"\"\"\n",
    "    Applies linear transformation on log(x+c) and normalizes to have max 1\n",
    "\n",
    "    Parameters\n",
    "    ----------\n",
    "    params : tuple of floats\n",
    "        (a, b, c_log) parameters of the linear transformation\n",
    "    x : array-like\n",
    "        input values\n",
    "    data : array-like\n",
    "        target values\n",
    "    return_fit : bool, optional\n",
    "        if True, returns the fit values in addition to the mean squared error\n",
    "\n",
    "    Returns\n",
    "    -------\n",
    "    mse : float\n",
    "        mean squared error between the fit and the data\n",
    "    fit : array-like, optional\n",
    "        fit values\n",
    "    \"\"\"\n",
    "    a,b,c_log=params\n",
    "    # scale the input values\n",
    "    fit = a*np.log(x+c_log)+b\n",
    "    # normalize to have max 1\n",
    "    fit = fit/np.max(fit)\n",
    "    # calculate the mean squared error between the fit and the data\n",
    "    mse = np.mean((fit-data)**2)\n",
    "    if return_fit:\n",
    "        return fit, mse\n",
    "    else:\n",
    "        return mse"
   ]
  },
  {
   "cell_type": "code",
   "execution_count": 72,
   "metadata": {},
   "outputs": [],
   "source": [
    "def get_opsin_data():\n",
    "    \"\"\"\n",
    "    read opsin data\n",
    "    (excel file)\n",
    "    \"\"\"\n",
    "    fpath_expinfo = r'../experiment_info/zf_leds_for_analysis.json'\n",
    "    led_nms = load_json(fpath_expinfo)\n",
    "    \n",
    "    led_nms_num = np.array([int(led) for led in led_nms]) # numerical values of the LED wavelengths [nm]\n",
    "    min_led = np.min(led_nms_num)\n",
    "    max_led = np.max(led_nms_num)\n",
    "    \n",
    "    filepath = r\"..\\experiment_info\\model\\LED_opsin_data.xlsx\"\n",
    "    opsin_df = pd.read_excel (filepath, header =0 )#[::-1]\n",
    "    opsins =[\"R\", \"G\", \"B\", \"U\"]\n",
    "    experimental_wvs = opsin_df['wavelength'].between(min_led, max_led) # indices\n",
    "    return opsins, experimental_wvs, opsin_df"
   ]
  },
  {
   "cell_type": "code",
   "execution_count": 73,
   "metadata": {},
   "outputs": [],
   "source": [
    "def get_log_opsin_data():\n",
    "    # get the log opsin tuning curves (from Takeshi's paper)\n",
    "    opsins, experimental_wvs, opsin_df = get_opsin_data()\n",
    "\n",
    "    \"\"\"\n",
    "    read LED data\n",
    "    (excel file)\n",
    "    \"\"\"\n",
    "    filepath = r\"..\\experiment_info\\model\\LED wavelength.xlsx\"\n",
    "    led_df = pd.read_excel (filepath, header =0 )#[::-1]\n",
    "\n",
    "    \"\"\"\n",
    "    read hc_block data\n",
    "    \"\"\"\n",
    "    opsins_data = []\n",
    "    filepaths = [r\"..\\experiment_info\\model\\%s-Cone recordings - HCblock.xlsx\" % opsin for opsin in opsins]\n",
    "    for path in filepaths:\n",
    "        if not os.path.exists(path):\n",
    "            raise ValueError(\"File not found: %s\" % path)\n",
    "        else:\n",
    "            opsins_data.append(pd.read_excel (path, header=0))\n",
    "    # merge dfs\n",
    "    hc_block_df = pd.concat(opsins_data, ignore_index=True)\n",
    "    \n",
    "    return hc_block_df, opsins, experimental_wvs, led_df, opsin_df"
   ]
  },
  {
   "cell_type": "code",
   "execution_count": 74,
   "metadata": {},
   "outputs": [],
   "source": [
    "def get_log_opsin_tunings():\n",
    "    \"\"\"\n",
    "    optimize parameters for all cones\n",
    "    \"\"\"\n",
    "    hc_block_df, opsins, experimental_wvs, led_df, opsin_df = get_log_opsin_data()\n",
    "    \n",
    "    res_all = []\n",
    "    fit_all = []\n",
    "    mse_all = []\n",
    "    data = []\n",
    "\n",
    "    for cone_type in opsins:\n",
    "        \n",
    "        #compute mean control traces and interpolate to opsin wavelength\n",
    "        wavelength = led_df[:13]['Wavelength'].values[::-1]\n",
    "        data = hc_block_df[hc_block_df['cone_type']==cone_type].loc[:, hc_block_df.columns != 'cone_type'].mean(axis=0).values[::-1]\n",
    "        data = data/np.max(data)\n",
    "        \n",
    "        opsin = opsin_df[(opsin_df['wavelength']>=360)&(opsin_df['wavelength']<=655) ][cone_type].values\n",
    "        \n",
    "        wavelength_interp = np.arange(360,656)\n",
    "    \n",
    "        data_interp = interp.interpolate.interp1d(wavelength,data)(wavelength_interp) \n",
    "        \n",
    "        \n",
    "    \n",
    "        # minimize mse\n",
    "        res = optimize.minimize(optimizing_fun, x0=[0.5,2,0.1], \n",
    "                                    args=(opsin, data_interp),\n",
    "                                bounds=((0,10),(0,10),(0,10)))\n",
    "        \n",
    "        # extract results\n",
    "        fit, mse = optimizing_fun(res.x,opsin, data_interp, return_fit=True )\n",
    "        res_all.append(res)\n",
    "        fit_all.append(fit)\n",
    "        mse_all.append(mse)\n",
    "\n",
    "    \"\"\"\n",
    "    put into dataframe\n",
    "    \"\"\"\n",
    "    log_opsin_tunings = pd.DataFrame(wavelength_interp, columns=['wavelength'])\n",
    "    for i, cone_type in enumerate(opsins):\n",
    "\n",
    "        log_opsin_tunings[cone_type] =  fit_all[i]\n",
    "        \n",
    "    return log_opsin_tunings"
   ]
  },
  {
   "cell_type": "code",
   "execution_count": 78,
   "metadata": {},
   "outputs": [
    {
     "name": "stderr",
     "output_type": "stream",
     "text": [
      "C:\\Users\\kozaj\\AppData\\Local\\Temp\\ipykernel_32820\\2428195727.py:23: DeprecationWarning: Please use `interp1d` from the `scipy.interpolate` namespace, the `scipy.interpolate.interpolate` namespace is deprecated.\n",
      "  data_interp = interp.interpolate.interp1d(wavelength,data)(wavelength_interp)\n"
     ]
    }
   ],
   "source": [
    "log_opsin_tuning = get_log_opsin_tunings()"
   ]
  },
  {
   "cell_type": "markdown",
   "metadata": {},
   "source": []
  },
  {
   "cell_type": "markdown",
   "metadata": {},
   "source": []
  }
 ],
 "metadata": {
  "kernelspec": {
   "display_name": "cone_analysis_final",
   "language": "python",
   "name": "python3"
  },
  "language_info": {
   "codemirror_mode": {
    "name": "ipython",
    "version": 3
   },
   "file_extension": ".py",
   "mimetype": "text/x-python",
   "name": "python",
   "nbconvert_exporter": "python",
   "pygments_lexer": "ipython3",
   "version": "3.11.7"
  }
 },
 "nbformat": 4,
 "nbformat_minor": 2
}
